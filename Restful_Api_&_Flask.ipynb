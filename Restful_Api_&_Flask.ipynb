{
  "cells": [
    {
      "cell_type": "markdown",
      "metadata": {
        "id": "gnpJvjnWYomy"
      },
      "source": [
        "**Theory Question Answer**"
      ]
    },
    {
      "cell_type": "markdown",
      "metadata": {
        "id": "QsVwXV6mYw2J"
      },
      "source": [
        "Q1. **What is a RESTful API?**\n",
        "\n",
        "ANS.A RESTful API, also known as a REST API, is an application programming interface (API) that adheres to the architectural principles of Representational State Transfer (REST). REST is an architectural style, not a protocol, that leverages existing web standards, primarily HTTP, to enable communication between different computer systems over a network, such as the internet.  "
      ]
    },
    {
      "cell_type": "markdown",
      "metadata": {
        "id": "kq0GaR7cZSIL"
      },
      "source": [
        "**Q2.Explain the concept of API specification.**\n",
        "\n",
        "ANS. An API specification is a formal, detailed document or definition that outlines how an Application Programming Interface (API) functions, what data it exchanges, and the rules governing its interactions. It acts as a contract or blueprint for developers, ensuring consistency in API design, implementation, and usage across different systems and teams."
      ]
    },
    {
      "cell_type": "markdown",
      "metadata": {
        "id": "jCbqgN26ZluP"
      },
      "source": [
        "**Q3. What is Flask, and why is it popular for building APIs?**\n",
        "\n",
        "ANS. Flask is a lightweight Python web framework known as a \"microframework\" because it provides the essential tools for building web applications without imposing a rigid structure or including many built-in features found in full-stack frameworks. It focuses on simplicity, flexibility, and extensibility.\n",
        "\n",
        "# Why Flask is popular for building APIs:\n",
        "\n",
        "**Lightweight and Minimalist:**\n",
        "\n",
        " Flask's microframework nature means it has a small footprint and minimal dependencies. This allows developers to create lean and efficient APIs without unnecessary overhead, making it ideal for microservices and quick API development.\n",
        "\n",
        "**Flexibility and Freedom:**\n",
        "\n",
        " Unlike opinionated frameworks, Flask offers developers the freedom to choose their preferred tools and libraries for various aspects of API development, such as database interaction, authentication, and serialization. This flexibility allows for tailored solutions specific to project requirements.\n",
        "\n",
        "**Ease of Use and Learning Curve:**\n",
        "\n",
        "Flask's simplicity and clear documentation make it easy to learn and get started with, even for developers new to web frameworks. This enables rapid prototyping and development of APIs.\n",
        "\n",
        "**Extensibility:**\n",
        "\n",
        " While minimal by default, Flask is highly extensible through its robust ecosystem of extensions. These extensions provide functionalities for common API needs like handling RESTful requests, generating API documentation (e.g., Flasgger), and integrating with various databases.\n",
        "\n",
        "**Excellent for Microservices:**\n",
        "\n",
        " Its lightweight nature and focus on individual components make Flask a strong choice for building microservices, where small, independent services communicate via APIs. This facilitates modularity and scalability in larger applications.\n",
        "\n",
        "**Strong Community and Documentation:**\n",
        "\n",
        " Flask benefits from an active community and comprehensive documentation, providing ample resources and support for developers encountering challenges or seeking best practices."
      ]
    },
    {
      "cell_type": "markdown",
      "metadata": {
        "id": "od8weSWpaXaX"
      },
      "source": [
        "**Q4.What is routing in Flask?**\n",
        "\n",
        "ANS. Routing in Flask is the mechanism that maps specific URL patterns to corresponding Python functions, known as \"view functions,\" within your web application. When a user requests a particular URL, Flask's routing system determines which view function should handle that request and execute its code to generate a response."
      ]
    },
    {
      "cell_type": "markdown",
      "metadata": {
        "id": "g4Qf0UIiaq-T"
      },
      "source": [
        "**Q5.How do you create a simple Flask application?**\n",
        "\n",
        "ANS. Routing in Flask is the mechanism that maps specific URL patterns to corresponding Python functions, known as \"view functions,\" within your web application. When a user requests a particular URL, Flask's routing system determines which view function should handle that request and execute its code to generate a response."
      ]
    },
    {
      "cell_type": "markdown",
      "metadata": {
        "id": "CFRx3h3Ma_Yw"
      },
      "source": [
        "**Q6. What are HTTP methods used in RESTful APIs?**\n",
        "\n",
        "ANS. RESTful APIs leverage standard HTTP methods to perform operations on resources, aligning with the principles of Representational State Transfer (REST). The most commonly used HTTP methods in RESTful API development correspond to the fundamental CRUD (Create, Read, Update, Delete) operations:\n",
        "\n",
        "**GET:**\n",
        "\n",
        "Used to retrieve data or a representation of a resource. GET requests should not have side effects and are considered safe and idempotent.\n",
        "\n",
        "**POST:**\n",
        "\n",
        " Used to create a new resource or submit data to be processed by the server. POST requests are not idempotent, meaning sending the same request multiple times may result in multiple resource creations.\n",
        "\n",
        "**PUT:**\n",
        "\n",
        " Used to update an existing resource or create a resource if it does not exist at the specified URI. PUT requests are idempotent, meaning repeated requests with the same data will have the same effect as a single request.\n",
        "\n",
        " **PATCH:**\n",
        "\n",
        "  Used to apply partial modifications to an existing resource. Unlike PUT, which replaces the entire resource, PATCH applies only the specified changes. PATCH requests are not inherently idempotent, but can be made so with careful implementation.\n",
        "\n",
        "**DELETE:**\n",
        "  \n",
        "   Used to remove a specified resource from the server. DELETE requests are idempotent, as deleting a resource multiple times has the same effect as deleting it once."
      ]
    },
    {
      "cell_type": "markdown",
      "metadata": {
        "id": "p-dmOnsrb2hK"
      },
      "source": [
        "**Q7.What is the purpose of the @app.route() decorator in Flask?**\n",
        "\n",
        "ANS. The app.route() decorator in Flask serves the purpose of associating a URL path with a specific Python function. This mechanism, known as routing, determines which function should be executed when a user accesses a particular URL in a web browser or through an API request."
      ]
    },
    {
      "cell_type": "markdown",
      "metadata": {
        "id": "ckhb5TQpcEwT"
      },
      "source": [
        "**Q8.What is the difference between GET and POST HTTP methods?**\n",
        "\n",
        "ANS. **GET:**\n",
        "\n",
        "Used to retrieve data or a representation of a resource. GET requests should not have side effects and are considered safe and idempotent.\n",
        "\n",
        "**POST:**\n",
        "\n",
        " Used to create a new resource or submit data to be processed by the server. POST requests are not idempotent, meaning sending the same request multiple times may result in multiple resource creations."
      ]
    },
    {
      "cell_type": "markdown",
      "metadata": {
        "id": "rW7N8JbDcsCI"
      },
      "source": [
        "**Q9. How do you handle errors in Flask APIs?**\n",
        "\n",
        "ANS.Error handling in a Flask API involves catching exceptions during request processing and returning appropriate, informative responses to the client. This typically includes: Using Flask's errorhandler decorator.\n",
        "\n",
        "Flask provides the @app.errorhandler() decorator to register functions that handle specific HTTP error codes (e.g., 404 Not Found, 500 Internal Server Error) or custom exception classes."
      ]
    },
    {
      "cell_type": "markdown",
      "metadata": {
        "id": "u0MomJCqc9IZ"
      },
      "source": [
        "**Q10. How do you connect Flask to a SQL database?**\n",
        "\n",
        "ANS. Connecting a Flask application to a SQL database is commonly achieved using an Object-Relational Mapper (ORM) like Flask-SQLAlchemy. This extension simplifies database interactions by mapping Python objects to database tables.\n",
        "\n",
        "Here are the general steps to connect Flask to a SQL database using Flask-SQLAlchemy: Install Flask-SQLAlchemy."
      ]
    },
    {
      "cell_type": "markdown",
      "metadata": {
        "id": "a7qC2FKwdLwo"
      },
      "source": [
        "**Q11. What is the role of Flask-SQLAlchemy?**\n",
        "\n",
        "ANS. Flask-SQLAlchemy's role is to seamlessly integrate SQLAlchemy, a powerful Python Object-Relational Mapper (ORM), with the Flask web framework, simplifying database management by providing abstractions for common tasks like setting up database connections, defining models, and executing queries using Python objects instead of raw SQL. It bridges Flask's lightweight nature with SQLAlchemy's robust database capabilities, making it easier for developers to work with relational databases (like SQLite, MySQL, and PostgreSQL) within their Flask applications.  "
      ]
    },
    {
      "cell_type": "markdown",
      "metadata": {
        "id": "Ec8rw6jldZCd"
      },
      "source": [
        "**Q12.What are Flask blueprints, and how are they useful?**\n",
        "\n",
        "ANS. Flask Blueprints are a mechanism within the Flask web framework that allows for the organization of an application into modular, reusable components. They are essentially a way to define a collection of routes, templates, static files, and other application-specific logic that can be registered with a main Flask application.\n",
        "\n",
        "# How they are useful:\n",
        "\n",
        "**Modularity and Organization:**\n",
        "\n",
        " Blueprints enable the division of a large application into smaller, self-contained units based on functionality (e.g., a \"users\" blueprint, a \"blog\" blueprint, an \"admin\" blueprint). This significantly improves code organization and readability, making it easier to manage complex applications.\n",
        "\n",
        "\n",
        "**Reusability:**\n",
        "\n",
        "Blueprints can be designed to be independent and self-contained, allowing for their reuse across different Flask applications. For example, a \"user authentication\" blueprint could be developed once and then integrated into multiple projects.\n",
        "\n",
        "**Collaboration:**\n",
        "\n",
        " In team environments, blueprints facilitate collaborative development by allowing different developers to work on separate parts of the application without directly interfering with each other's code. Each developer can focus on their assigned blueprint, and then all blueprints are integrated into the main application.\n",
        "\n",
        "\n",
        "**Scalability:**\n",
        "\n",
        " As an application grows, managing all routes, views, and resources in a single file becomes unwieldy. Blueprints help in scaling applications by providing a structured way to add new features and functionality without disrupting the existing codebase.\n",
        "\n",
        "\n",
        "**Clearer Separation of Concerns:**\n",
        "\n",
        " Blueprints encourage a clearer separation of concerns by encapsulating related functionality within distinct modules. This leads to more maintainable and testable code."
      ]
    },
    {
      "cell_type": "markdown",
      "metadata": {
        "id": "sAju8OCveOs3"
      },
      "source": [
        "**Q13.What is the purpose of Flask's request object?**\n",
        "\n",
        "ANS. The purpose of Flask's request object is to provide a comprehensive interface for accessing all incoming HTTP request data within a Flask application. When a client sends an HTTP request to a Flask server, Flask automatically creates a request object that encapsulates all the details of that specific request. This object is then made available within the request context, allowing developers to easily retrieve and process the information sent by the client."
      ]
    },
    {
      "cell_type": "markdown",
      "metadata": {
        "id": "5d4rzUqBeeqG"
      },
      "source": [
        "**Q14.How do you create a RESTful API endpoint using Flask?**\n",
        "\n",
        "ANS. Creating a RESTful API endpoint using Flask involves defining routes that correspond to specific resources and HTTP methods (GET, POST, PUT, DELETE)."
      ]
    },
    {
      "cell_type": "markdown",
      "metadata": {
        "id": "NW5qXN0Ae6qm"
      },
      "source": [
        "**Q15.What is the purpose of Flask's jsonify() function?**\n",
        "\n",
        "ANS. The jsonify() function in Flask serves the purpose of simplifying the creation of JSON responses in web applications, particularly for APIs. It performs the following key functions:\n",
        "\n",
        "\n",
        "**Serialization to JSON:**\n",
        "\n",
        " It converts Python data structures (like dictionaries and lists) into a JSON formatted string. This is essential for sending data to clients in a universally understood format.\n",
        "\n",
        "**Creation of Flask Response Object:**\n",
        "\n",
        " It wraps the JSON string within a flask.Response object. This object is the standard way Flask handles HTTP responses.\n",
        "\n",
        "**Setting Content-Type Header:**\n",
        "\n",
        " It automatically sets the Content-Type HTTP header of the response to application/json. This informs the client (e.g., a web browser or another application) that the incoming data is in JSON format, allowing it to parse and process the data correctly."
      ]
    },
    {
      "cell_type": "markdown",
      "metadata": {
        "id": "9mpy-V2tfWXL"
      },
      "source": [
        "**Q16.Explain Flask’s url_for() function?**\n",
        "\n",
        "ANS.Flask's url_for() function dynamically generates URLs for specific view functions (also known as endpoints) within a Flask application. This function is crucial for building robust and maintainable web applications by abstracting away direct URL paths."
      ]
    },
    {
      "cell_type": "markdown",
      "metadata": {
        "id": "S4JP_Pk_fme0"
      },
      "source": [
        "**Q17.How does Flask handle static files (CSS, JavaScript, etc.)?**\n",
        "\n",
        "ANS. Flask handles static files such as CSS, JavaScript, and images by serving them from a designated directory, typically named static.\n",
        "\n",
        "**1. Static Folder Structure:**\n",
        "\n",
        "A folder named static is created in the root directory of the Flask application.\n",
        "Within the static folder, you can create subdirectories to organize different types of static files (e.g., static/css, static/js, static/img).\n",
        "\n",
        "**2. Referencing Static Files in Templates:**\n",
        "\n",
        "To link to static files in your HTML templates (Jinja2), the url_for() function is used with the special 'static' endpoint.\n",
        "The filename argument specifies the path to the file relative to the static directory.\n",
        "\n",
        "**3. How Flask Serves Them:**\n",
        "\n",
        "Flask automatically creates a static view that serves files from the static directory.\n",
        "When a request comes in for a URL starting with /static/, Flask maps it to the corresponding file within the static folder and serves it.\n",
        "\n",
        "\n",
        "**4. Production Considerations:**\n",
        "\n",
        "While Flask can serve static files during development, it is generally recommended to use a dedicated HTTP server like Nginx or Apache to serve static files in a production environment for better performance and efficiency. These servers are optimized for serving static content."
      ]
    },
    {
      "cell_type": "markdown",
      "metadata": {
        "id": "o-idzcXlghFn"
      },
      "source": [
        "**Q18. What is an API specification, and how does it help in building a Flask API?**\n",
        "\n",
        "ANS. An API specification is a formal, machine-readable document that serves as a blueprint for an API. It precisely defines how the API functions, including its available endpoints, the operations supported by each endpoint (e.g., GET, POST), the expected input parameters and their data types, and the structure of the responses, including any potential error messages. The OpenAPI Specification (OAS), formerly known as Swagger Specification, is a widely adopted standard for defining API specifications.\n",
        "\n",
        "#How it helps in building a Flask API:\n",
        "\n",
        "**Clear Communication and Design:**\n",
        "\n",
        " An API specification provides a clear and unambiguous contract between the API provider and consumers. This ensures that both frontend and backend developers understand the API's behavior, leading to a more streamlined development process and reduced misunderstandings. When building a Flask API, defining the specification upfront helps in designing the routes, request/response schemas, and data models consistently.\n",
        "\n",
        "**Automated Documentation Generation:**\n",
        "\n",
        " Tools like Swagger UI can automatically generate interactive API documentation directly from an OpenAPI Specification. This eliminates the need for manual documentation, keeps the documentation up-to-date with the API's evolution, and allows developers to easily explore and test the API endpoints.\n",
        "\n",
        "**Code Generation and Mocking:**\n",
        "\n",
        " API specifications can be used to automatically generate server-side code stubs for Flask, reducing boilerplate code. They can also be used to create mock servers, allowing frontend development to proceed in parallel with backend development, even before the Flask API is fully implemented.\n",
        "\n",
        "**Testing and Validation:**\n",
        "\n",
        " The specification provides a basis for automated testing. Test cases can be generated to validate if the Flask API adheres to the defined contract, ensuring consistency and preventing regressions. Input validation logic within Flask routes can also be designed based on the schema definitions in the specification.\n",
        "\n",
        "**Improved Collaboration:**\n",
        "\n",
        " With a well-defined API specification, multiple teams can work concurrently on different parts of the application (e.g., frontend, backend, mobile app) with a shared understanding of how the API will function. This fosters better collaboration and reduces integration issues."
      ]
    },
    {
      "cell_type": "markdown",
      "metadata": {
        "id": "sScn1ZBthN1G"
      },
      "source": [
        "**Q19.What are HTTP status codes, and why are they important in a Flask API?**\n",
        "\n",
        "ANS. HTTP status codes are three-digit numbers returned by a server in response to an HTTP request, indicating the outcome of that request. They are a fundamental part of the HTTP protocol, providing a standardized way for the server to communicate with the client.\n",
        "\n",
        "# Importance in a Flask API:\n",
        "In a Flask API, HTTP status codes are crucial for several reasons:\n",
        "\n",
        "**Clear Communication:**\n",
        "\n",
        " They provide immediate feedback to the client about the success or failure of a request, and if there's an issue, the nature of that issue. For example, a 200 OK indicates success, a 404 Not Found means the requested resource doesn't exist, and a 500 Internal Server Error points to a problem on the server side.\n",
        "\n",
        "\n",
        "**Error Handling and Debugging:**\n",
        "\n",
        "Status codes enable clients to implement appropriate error handling logic. If a client receives a 4xx code, it knows the problem is with its request (e.g., invalid data, missing authentication). If it receives a 5xx code, it suggests a server-side issue that the client cannot directly resolve. This distinction is vital for debugging and troubleshooting.\n",
        "\n",
        "\n",
        "**API Design and Consistency:**\n",
        "\n",
        " Using standard HTTP status codes promotes consistency and predictability in API design. Developers consuming your Flask API can rely on these codes to understand the API's behavior without needing extensive custom documentation for every possible response.\n",
        "\n",
        "\n",
        "**Client-Side Logic:**\n",
        "\n",
        "Clients can use status codes to trigger different actions. For instance, a web browser might display a specific error page for a 404, while an application might retry a request if it receives a 503 Service Unavailable."
      ]
    },
    {
      "cell_type": "markdown",
      "metadata": {
        "id": "H2qThDUIh7F1"
      },
      "source": [
        "**Q20.How do you handle POST requests in Flask?**\n",
        "\n",
        "ANS.Handling POST requests in Flask involves defining a route that accepts the POST method and then accessing the data sent in the request body.\n",
        "\n",
        "Use the @app.route() decorator and specify methods=['POST'] to indicate that the route should handle POST requests. You can also include GET if the same endpoint needs to serve a form and then process its submission."
      ]
    },
    {
      "cell_type": "markdown",
      "metadata": {
        "id": "WMmGU6F5iP16"
      },
      "source": [
        "**Q21.How would you secure a Flask API?**\n",
        "\n",
        "ANS. Securing a Flask API involves implementing various measures to protect against unauthorized access, data breaches, and other vulnerabilities.\n",
        "\n",
        " Key strategies include:\n",
        "\n",
        "**1. Authentication and Authorization:**\n",
        "\n",
        "**2. Data Security:**\n",
        "\n",
        "**3. Input Validation and Sanitization:**\n",
        "\n",
        "**4. Rate Limiting:**\n",
        "\n",
        "**5. Logging and Monitoring:**\n",
        "\n",
        "**6. Secure Configuration:**\n",
        "\n",
        "**7. Regular Security Audits and Updates:**\n"
      ]
    },
    {
      "cell_type": "markdown",
      "metadata": {
        "id": "8e1xfQ4DjemX"
      },
      "source": [
        "**Q22.What is the significance of the Flask-RESTful extension?**\n",
        "\n",
        "ANS. The significance of the Flask-RESTful extension is that it simplifies building RESTful APIs by providing tools and a structured approach for Flask development, enabling cleaner, object-oriented code, automatic handling of requests and responses, and built-in support for common API functionalities like request parsing and error handling. This makes it easier for developers to quickly create robust APIs that adhere to REST principles with minimal boilerplate code."
      ]
    },
    {
      "cell_type": "markdown",
      "metadata": {
        "id": "n6FROduKjqqh"
      },
      "source": [
        "**Q23. What is the role of Flask’s session object?**\n",
        "\n",
        "ANS. Flask's session object provides a way to store user-specific data, like login status or user preferences, across multiple browser requests by using cryptographically signed cookies. It functions like a Python dictionary, allowing you to set and get data, but it is crucial to set a strong SECRET_KEY for security, as this key is used to sign the cookie. The session data resides in the browser as a cookie, and it is automatically decoded and re-encoded with each request to maintain the user's state.\n"
      ]
    },
    {
      "cell_type": "markdown",
      "metadata": {
        "id": "KicPVWUTj8q2"
      },
      "source": [
        "**Practical Questions**"
      ]
    },
    {
      "cell_type": "markdown",
      "metadata": {
        "id": "LptGjWiYJ-HU"
      },
      "source": [
        "**Q1. How do you create a basic Flask application?**"
      ]
    },
    {
      "cell_type": "code",
      "execution_count": null,
      "metadata": {
        "colab": {
          "base_uri": "https://localhost:8080/"
        },
        "id": "247ee0a6",
        "outputId": "96664d94-b741-4acb-a17a-3c3f4a9260ef"
      },
      "outputs": [
        {
          "name": "stdout",
          "output_type": "stream",
          "text": [
            " * Serving Flask app '__main__'\n",
            " * Debug mode: on\n"
          ]
        },
        {
          "name": "stderr",
          "output_type": "stream",
          "text": [
            "INFO:werkzeug:\u001b[31m\u001b[1mWARNING: This is a development server. Do not use it in a production deployment. Use a production WSGI server instead.\u001b[0m\n",
            " * Running on http://127.0.0.1:5000\n",
            "INFO:werkzeug:\u001b[33mPress CTRL+C to quit\u001b[0m\n",
            "INFO:werkzeug: * Restarting with watchdog (inotify)\n"
          ]
        }
      ],
      "source": [
        "from flask import Flask\n",
        "\n",
        "app = Flask(__name__)\n",
        "\n",
        "@app.route('/')\n",
        "def hello_world():\n",
        "    return 'Hello, World!'\n",
        "\n",
        "if __name__ == '__main__':\n",
        "    app.run(debug=True)"
      ]
    },
    {
      "cell_type": "markdown",
      "metadata": {
        "id": "iCsnK53aLp38"
      },
      "source": [
        "**Q2. How do you serve static files like images or CSS in Flask?**"
      ]
    },
    {
      "cell_type": "code",
      "execution_count": null,
      "metadata": {
        "id": "1a4c9426"
      },
      "outputs": [],
      "source": [
        "from flask import Flask, render_template\n",
        "\n",
        "app = Flask(__name__)\n",
        "\n",
        "@app.route('/')\n",
        "def index():\n",
        "    return render_template('index.html')\n",
        "\n",
        "if __name__ == '__main__':\n",
        "    app.run(debug=True)"
      ]
    },
    {
      "cell_type": "code",
      "execution_count": null,
      "metadata": {
        "id": "ddae240f"
      },
      "outputs": [],
      "source": [
        "<!DOCTYPE html>\n",
        "<html>\n",
        "<head>\n",
        "    <title>My Flask App</title>\n",
        "    <link rel=\"stylesheet\" href=\"{{ url_for('static', filename='css/style.css') }}\">\n",
        "</head>\n",
        "<body>\n",
        "    <h1>Welcome to my Flask App!</h1>\n",
        "    <img src=\"{{ url_for('static', filename='images/logo.png') }}\" alt=\"Logo\">\n",
        "</body>\n",
        "</html>"
      ]
    },
    {
      "cell_type": "markdown",
      "metadata": {
        "id": "xbF92EXjMP2s"
      },
      "source": [
        "**Q3. How do you define different routes with different HTTP methods in Flask?**"
      ]
    },
    {
      "cell_type": "code",
      "execution_count": null,
      "metadata": {
        "colab": {
          "base_uri": "https://localhost:8080/"
        },
        "id": "vYkQzgW9Mc4S",
        "outputId": "3570fa39-7139-45cf-d4d5-b7b47e776aff"
      },
      "outputs": [
        {
          "name": "stdout",
          "output_type": "stream",
          "text": [
            " * Serving Flask app '__main__'\n",
            " * Debug mode: on\n"
          ]
        },
        {
          "name": "stderr",
          "output_type": "stream",
          "text": [
            "INFO:werkzeug:\u001b[31m\u001b[1mWARNING: This is a development server. Do not use it in a production deployment. Use a production WSGI server instead.\u001b[0m\n",
            " * Running on http://127.0.0.1:5000\n",
            "INFO:werkzeug:\u001b[33mPress CTRL+C to quit\u001b[0m\n",
            "INFO:werkzeug: * Restarting with watchdog (inotify)\n"
          ]
        }
      ],
      "source": [
        "from flask import Flask, request\n",
        "\n",
        "app = Flask(__name__)\n",
        "\n",
        "@app.route('/data', methods=['GET'])\n",
        "def get_data():\n",
        "    return 'This is a GET request to the /data endpoint.'\n",
        "\n",
        "@app.route('/data', methods=['POST'])\n",
        "def post_data():\n",
        "    data = request.data.decode('utf-8')\n",
        "    return f'Received POST data: {data}'\n",
        "\n",
        "@app.route('/submit_form', methods=['GET', 'POST'])\n",
        "def submit_form():\n",
        "    if request.method == 'POST':\n",
        "\n",
        "        form_data = request.form\n",
        "        return f'Form submitted with data: {form_data}'\n",
        "    else:\n",
        "\n",
        "        return '''\n",
        "            <form method=\"POST\">\n",
        "                <input type=\"text\" name=\"name\">\n",
        "                <input type=\"submit\" value=\"Submit\">\n",
        "            </form>\n",
        "        '''\n",
        "\n",
        "if __name__ == '__main__':\n",
        "    app.run(debug=True)"
      ]
    },
    {
      "cell_type": "markdown",
      "metadata": {
        "id": "urMC1A7akgHt"
      },
      "source": [
        "**Q4.How do you render HTML templates in Flask?**"
      ]
    },
    {
      "cell_type": "code",
      "execution_count": null,
      "metadata": {
        "colab": {
          "base_uri": "https://localhost:8080/"
        },
        "id": "74921778",
        "outputId": "4a77761f-52f8-4fc4-f8ed-637b29725a14"
      },
      "outputs": [
        {
          "name": "stdout",
          "output_type": "stream",
          "text": [
            " * Serving Flask app '__main__'\n",
            " * Debug mode: on\n"
          ]
        },
        {
          "name": "stderr",
          "output_type": "stream",
          "text": [
            "INFO:werkzeug:\u001b[31m\u001b[1mWARNING: This is a development server. Do not use it in a production deployment. Use a production WSGI server instead.\u001b[0m\n",
            " * Running on http://127.0.0.1:5000\n",
            "INFO:werkzeug:\u001b[33mPress CTRL+C to quit\u001b[0m\n",
            "INFO:werkzeug: * Restarting with watchdog (inotify)\n"
          ]
        }
      ],
      "source": [
        "from flask import Flask, render_template\n",
        "\n",
        "app = Flask(__name__)\n",
        "\n",
        "@app.route('/')\n",
        "def index():\n",
        "\n",
        "    return render_template('index.html', title='My Flask App', message='Hello from Flask!')\n",
        "\n",
        "if __name__ == '__main__':\n",
        "    app.run(debug=True)"
      ]
    },
    {
      "cell_type": "markdown",
      "metadata": {
        "id": "ab0f0468"
      },
      "source": [
        "**Q5.How can you generate URLs for routes in Flask using url_for?**"
      ]
    },
    {
      "cell_type": "code",
      "execution_count": null,
      "metadata": {
        "colab": {
          "base_uri": "https://localhost:8080/"
        },
        "id": "c63cb74d",
        "outputId": "8aab78e8-7ece-45cb-9e06-5a0ce20c8f46"
      },
      "outputs": [
        {
          "name": "stdout",
          "output_type": "stream",
          "text": [
            "/\n",
            "/user/John%20Doe\n"
          ]
        }
      ],
      "source": [
        "from flask import Flask, url_for\n",
        "\n",
        "app = Flask(__name__)\n",
        "\n",
        "@app.route('/')\n",
        "def index():\n",
        "    pass\n",
        "\n",
        "@app.route('/user/<username>')\n",
        "def profile(username):\n",
        "    pass\n",
        "\n",
        "with app.test_request_context():\n",
        "    print(url_for('index'))\n",
        "    print(url_for('profile', username='John Doe'))"
      ]
    },
    {
      "cell_type": "markdown",
      "metadata": {
        "id": "bCawl6RNljHO"
      },
      "source": [
        "**Q6.How do you handle forms in Flask?**"
      ]
    },
    {
      "cell_type": "code",
      "execution_count": null,
      "metadata": {
        "colab": {
          "base_uri": "https://localhost:8080/"
        },
        "id": "5f98b617",
        "outputId": "9f008c49-c0c5-4c4e-fbe6-66f9c434d80b"
      },
      "outputs": [
        {
          "name": "stdout",
          "output_type": "stream",
          "text": [
            " * Serving Flask app '__main__'\n",
            " * Debug mode: on\n"
          ]
        },
        {
          "name": "stderr",
          "output_type": "stream",
          "text": [
            "INFO:werkzeug:\u001b[31m\u001b[1mWARNING: This is a development server. Do not use it in a production deployment. Use a production WSGI server instead.\u001b[0m\n",
            " * Running on http://127.0.0.1:5000\n",
            "INFO:werkzeug:\u001b[33mPress CTRL+C to quit\u001b[0m\n",
            "INFO:werkzeug: * Restarting with watchdog (inotify)\n"
          ]
        }
      ],
      "source": [
        "from flask import Flask, render_template, request\n",
        "\n",
        "app = Flask(__name__)\n",
        "\n",
        "@app.route('/form', methods=['GET', 'POST'])\n",
        "def handle_form():\n",
        "    if request.method == 'POST':\n",
        "        name = request.form.get('name')\n",
        "        return f'Hello, {name}!'\n",
        "    return render_template('form.html')\n",
        "\n",
        "if __name__ == '__main__':\n",
        "    app.run(debug=True)"
      ]
    },
    {
      "cell_type": "markdown",
      "metadata": {
        "id": "mGYaaOTfl2qs"
      },
      "source": [
        "**Q7.How can you validate form data in Flask?**"
      ]
    },
    {
      "cell_type": "code",
      "execution_count": 9,
      "metadata": {
        "colab": {
          "base_uri": "https://localhost:8080/"
        },
        "id": "86ad09d1",
        "outputId": "596f652c-1eb2-4d8a-e354-a5b014538f18"
      },
      "outputs": [
        {
          "metadata": {
            "tags": null
          },
          "name": "stdout",
          "output_type": "stream",
          "text": [
            " * Serving Flask app '__main__'\n",
            " * Debug mode: on\n"
          ]
        },
        {
          "metadata": {
            "tags": null
          },
          "name": "stderr",
          "output_type": "stream",
          "text": [
            "INFO:werkzeug:\u001b[31m\u001b[1mWARNING: This is a development server. Do not use it in a production deployment. Use a production WSGI server instead.\u001b[0m\n",
            " * Running on http://127.0.0.1:5000\n",
            "INFO:werkzeug:\u001b[33mPress CTRL+C to quit\u001b[0m\n",
            "INFO:werkzeug: * Restarting with watchdog (inotify)\n"
          ]
        }
      ],
      "source": [
        "from flask import Flask, render_template, request\n",
        "\n",
        "app = Flask(__name__)\n",
        "\n",
        "@app.route('/validate_form', methods=['GET', 'POST'])\n",
        "def validate_form():\n",
        "    if request.method == 'POST':\n",
        "        name = request.form.get('name')\n",
        "        age = request.form.get('age')\n",
        "        errors = {}\n",
        "\n",
        "        if not name:\n",
        "            errors['name'] = 'Name is required.'\n",
        "        if not age:\n",
        "            errors['age'] = 'Age is required.'\n",
        "        try:\n",
        "            age = int(age)\n",
        "            if age <= 0:\n",
        "                errors['age'] = 'Age must be a positive number.'\n",
        "        except (ValueError, TypeError):\n",
        "            errors['age'] = 'Invalid age.'\n",
        "\n",
        "        if errors:\n",
        "            return render_template('validate_form.html', errors=errors, name=name, age=request.form.get('age'))\n",
        "        else:\n",
        "            return f'Form submitted successfully! Name: {name}, Age: {age}'\n",
        "\n",
        "    return render_template('validate_form.html')\n",
        "\n",
        "if __name__ == '__main__':\n",
        "    app.run(debug=True)"
      ]
    },
    {
      "cell_type": "markdown",
      "source": [
        "**Q8.How do you manage sessions in Flask?**"
      ],
      "metadata": {
        "id": "U1SvtxM7zeID"
      }
    },
    {
      "cell_type": "code",
      "metadata": {
        "id": "916706e7"
      },
      "source": [
        "from flask import Flask, session, redirect, url_for, request\n",
        "\n",
        "app = Flask(__name__)\n",
        "\n",
        "app.secret_key = 'super secret key'\n",
        "\n",
        "@app.route('/')\n",
        "def index():\n",
        "    if 'username' in session:\n",
        "        return f'Logged in as {session[\"username\"]} <br><a href=\"/logout\">Logout</a>'\n",
        "\n",
        "    return 'You are not logged in <br><a href=\"/login\">Login</a>'\n",
        "\n",
        "@app.route('/login', methods=['GET', 'POST'])\n",
        "def login():\n",
        "    if request.method == 'POST':\n",
        "        session['username'] = request.form['username']\n",
        "        return redirect(url_for('index'))\n",
        "    return '''\n",
        "        <form action=\"\" method=\"post\">\n",
        "            <p><input type=\"text\" name=\"username\"></p>\n",
        "            <p><input type=\"submit\" value=\"Login\"></p>\n",
        "        </form>\n",
        "    '''\n",
        "\n",
        "@app.route('/logout')\n",
        "def logout():\n",
        "\n",
        "    session.pop('username', None)\n",
        "    return redirect(url_for('index'))\n",
        "\n",
        "if __name__ == '__main__':\n",
        "    app.run(debug=True)"
      ],
      "execution_count": null,
      "outputs": []
    },
    {
      "cell_type": "markdown",
      "metadata": {
        "id": "-hTMWqromOZG"
      },
      "source": [
        "**Q9. How do you redirect to a different route in Flask?**"
      ]
    },
    {
      "cell_type": "code",
      "metadata": {
        "id": "c83c31ce"
      },
      "source": [
        "from flask import Flask, redirect, url_for\n",
        "\n",
        "app = Flask(__name__)\n",
        "\n",
        "@app.route('/')\n",
        "def index():\n",
        "    return 'This is the index page. Redirecting to the about page...'\n",
        "\n",
        "@app.route('/about')\n",
        "def about():\n",
        "    return 'This is the about page.'\n",
        "\n",
        "@app.route('/redirect_to_about')\n",
        "def go_to_about():\n",
        "    return redirect(url_for('about'))\n",
        "\n",
        "if __name__ == '__main__':\n",
        "    app.run(debug=True)"
      ],
      "execution_count": null,
      "outputs": []
    },
    {
      "cell_type": "markdown",
      "source": [
        "**Q10 How do you handle errors in Flask (e.g., 404)?**"
      ],
      "metadata": {
        "id": "0ccnIRi5z4bc"
      }
    },
    {
      "cell_type": "code",
      "metadata": {
        "id": "549d9c6e"
      },
      "source": [
        "from flask import Flask, render_template\n",
        "\n",
        "app = Flask(__name__)\n",
        "\n",
        "@app.route('/')\n",
        "def index():\n",
        "    return 'Hello, World!'\n",
        "\n",
        "@app.errorhandler(404)\n",
        "def page_not_found(error):\n",
        "    return render_template('404.html'), 404\n",
        "\n",
        "if __name__ == '__main__':\n",
        "    app.run(debug=True)"
      ],
      "execution_count": null,
      "outputs": []
    },
    {
      "cell_type": "markdown",
      "source": [
        "**Q11. How do you structure a Flask app using Blueprints?**"
      ],
      "metadata": {
        "id": "DWcvSheO0Ytw"
      }
    },
    {
      "cell_type": "markdown",
      "source": [
        "**Q12.How do you define a custom Jinja filter in Flask?**"
      ],
      "metadata": {
        "id": "Y_wx4Dz208h4"
      }
    },
    {
      "cell_type": "code",
      "metadata": {
        "id": "5ce2a95a"
      },
      "source": [
        "from flask import Flask, render_template\n",
        "\n",
        "app = Flask(__name__)\n",
        "\n",
        "# Define a custom filter\n",
        "@app.template_filter('reverse_string')\n",
        "def reverse_string_filter(s):\n",
        "    return s[::-1]\n",
        "\n",
        "@app.route('/')\n",
        "def index():\n",
        "    my_string = \"Hello, Flask!\"\n",
        "    return render_template('filter_example.html', my_string=my_string)\n",
        "\n",
        "if __name__ == '__main__':\n",
        "    app.run(debug=True)"
      ],
      "execution_count": null,
      "outputs": []
    },
    {
      "cell_type": "markdown",
      "source": [
        "**Q13.How can you redirect with query parameters in Flask?**"
      ],
      "metadata": {
        "id": "LzCvZW2t1Rht"
      }
    },
    {
      "cell_type": "code",
      "source": [
        "from flask import Flask, redirect, url_for\n",
        "\n",
        "app = Flask(__name__)\n",
        "\n",
        "@app.route('/')\n",
        "def index():\n",
        "\n",
        "    return redirect(url_for('greeting', name='Guest'))\n",
        "\n",
        "@app.route('/greet')\n",
        "def greeting():\n",
        "\n",
        "    name = request.args.get('name', 'World')\n",
        "    return f'Hello, {name}!'\n",
        "\n",
        "if __name__ == '__main__':\n",
        "    app.run(debug=True)"
      ],
      "metadata": {
        "id": "319sUXiX13h0"
      },
      "execution_count": null,
      "outputs": []
    },
    {
      "cell_type": "markdown",
      "source": [
        "**Q14.How do you return JSON responses in Flask?**"
      ],
      "metadata": {
        "id": "3yxnFxfC19Bl"
      }
    },
    {
      "cell_type": "code",
      "metadata": {
        "id": "4ece4134"
      },
      "source": [
        "from flask import Flask, jsonify\n",
        "\n",
        "app = Flask(__name__)\n",
        "\n",
        "@app.route('/json_example')\n",
        "def json_example():\n",
        "    data = {\n",
        "        'name': 'John Doe',\n",
        "        'age': 30,\n",
        "        'city': 'New York'\n",
        "    }\n",
        "    return jsonify(data)\n",
        "\n",
        "if __name__ == '__main__':\n",
        "    app.run(debug=True)"
      ],
      "execution_count": null,
      "outputs": []
    },
    {
      "cell_type": "markdown",
      "source": [
        "**Q15. How do you capture URL parameters in Flask?**"
      ],
      "metadata": {
        "id": "GWWJq0Qc2TO6"
      }
    },
    {
      "cell_type": "code",
      "metadata": {
        "id": "340b92ae"
      },
      "source": [
        "from flask import Flask\n",
        "\n",
        "app = Flask(__name__)\n",
        "\n",
        "@app.route('/user/<username>')\n",
        "def show_user_profile(username):\n",
        "\n",
        "    return f'User: {username}'\n",
        "\n",
        "@app.route('/post/<int:post_id>')\n",
        "def show_post(post_id):\n",
        "\n",
        "    return f'Post ID: {post_id}'\n",
        "\n",
        "@app.route('/path/<path:subpath>')\n",
        "def show_subpath(subpath):\n",
        "\n",
        "    return f'Subpath: {subpath}'\n",
        "\n",
        "if __name__ == '__main__':\n",
        "    app.run(debug=True)"
      ],
      "execution_count": null,
      "outputs": []
    }
  ],
  "metadata": {
    "colab": {
      "provenance": []
    },
    "kernelspec": {
      "display_name": "Python 3",
      "name": "python3"
    },
    "language_info": {
      "name": "python"
    }
  },
  "nbformat": 4,
  "nbformat_minor": 0
}